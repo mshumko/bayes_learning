{
 "cells": [
  {
   "cell_type": "markdown",
   "metadata": {},
   "source": [
    "In this notebook we explore how to do linear regression using Bayesian inference and a Metropolis MCMC sampler."
   ]
  },
  {
   "cell_type": "code",
   "execution_count": 77,
   "metadata": {},
   "outputs": [],
   "source": [
    "import numpy as np\n",
    "import scipy.stats\n",
    "import pandas as pd\n",
    "import matplotlib.pyplot as plt\n",
    "from matplotlib.animation import FuncAnimation\n",
    "import matplotlib.gridspec \n",
    "import os\n",
    "\n",
    "import metropolis\n",
    "\n",
    "np.random.seed(123) # For reproducing random results"
   ]
  },
  {
   "cell_type": "markdown",
   "metadata": {},
   "source": [
    "Polynomial function of the form $y = a_0 + a_1 x + \\epsilon$ where $\\epsilon$ is some noise model."
   ]
  },
  {
   "cell_type": "code",
   "execution_count": 78,
   "metadata": {},
   "outputs": [
    {
     "data": {
      "image/png": "[encoded data removed]",
      "text/plain": [
       "<Figure size 432x288 with 1 Axes>"
      ]
     },
     "metadata": {
      "needs_background": "light"
     },
     "output_type": "display_data"
    }
   ],
   "source": [
    "a = [5, 3]\n",
    "x = np.linspace(0, 50, num=25)\n",
    "std = 20\n",
    "\n",
    "line = lambda a, x: a[0] + a[1]*x\n",
    "y_true = line(a, x)\n",
    "y_obs = [np.random.normal(y_i, scale=std) for y_i in y_true]\n",
    "\n",
    "plt.plot(x, y_true);\n",
    "plt.scatter(x, y_obs, c='k');\n",
    "plt.xlabel('x'); plt.ylabel('y');"
   ]
  },
  {
   "cell_type": "markdown",
   "metadata": {},
   "source": [
    "Now set up the prior, first guess of the prior, likelihood, number of iterations, and the target function (product of the prior and likelihoods)."
   ]
  },
  {
   "cell_type": "code",
   "execution_count": 79,
   "metadata": {},
   "outputs": [],
   "source": [
    "def gaus_likelihood(f, p, x, y, std=1):\n",
    "    \"\"\" \n",
    "    Gaussian likelihood. \n",
    "    ARUMENTS:\n",
    "    f : the function that transforms (p, x) -> y_model \n",
    "        for a choice of prior variables.\n",
    "    p : parameters for the model.\n",
    "    x : independent variable.\n",
    "    y : observed data.    \n",
    "    \"\"\"\n",
    "    y_model = f(p, x)\n",
    "    C = (np.std(y)*np.sqrt(2*np.pi))\n",
    "    exp_args = sum([(y_i - y_model_i)**2 \n",
    "                for (y_i, y_model_i) in zip(y, y_model)])\n",
    "    return np.exp(-0.5*exp_args/std**2)/C"
   ]
  },
  {
   "cell_type": "code",
   "execution_count": 80,
   "metadata": {},
   "outputs": [],
   "source": [
    "prior = [ \n",
    "        scipy.stats.norm(loc=20, scale=30),\n",
    "        scipy.stats.norm(loc=0, scale=20) \n",
    "        ]\n",
    "# Initial guess for the prior variables.\n",
    "start = [prior_i.rvs() for prior_i in prior]\n",
    "# Number of iterations\n",
    "n_iter = 100000\n",
    "n_burn = n_iter//10\n",
    "\n",
    "def target(p):\n",
    "    \"\"\" Target function which is the product of the liekihood and prior \"\"\"\n",
    "    l = gaus_likelihood(line, p, x, y_obs, std=std)\n",
    "    prior_prob = np.prod([prior_i.pdf(p_i) for prior_i, p_i in zip(prior, p)])\n",
    "    return l*prior_prob\n",
    "\n",
    "def proposal(p, proposal_jump=[5, 5]):\n",
    "    \"\"\" \n",
    "    Generate a new proposal, or \"guess\" for the MCMC to try next. \n",
    "    The new proposed value is picked from a Normal, centered on \n",
    "    the old value given by p. The proposal_jump array specifies \n",
    "    the standard deviation of the possible jumps from the prior\n",
    "    parameter value.\n",
    "    \"\"\"\n",
    "    new_vals = np.array([scipy.stats.norm(loc=p_i, scale=jump_i).rvs() \n",
    "                    for p_i, jump_i in zip(p, proposal_jump)])    \n",
    "    return new_vals"
   ]
  },
  {
   "cell_type": "markdown",
   "metadata": {},
   "source": [
    "Now run the MCMC sampler."
   ]
  },
  {
   "cell_type": "code",
   "execution_count": 81,
   "metadata": {},
   "outputs": [
    {
     "name": "stderr",
     "output_type": "stream",
     "text": [
      "N/A% (0 of 100000) |                     | Elapsed Time: 0:00:00 ETA:  --:--:--/home/mike/Documents/bayes_regression/metropolis.py:23: RuntimeWarning: invalid value encountered in double_scalars\n",
      "  p = min(target(proposed)/target(current), compare_value)\n",
      "/home/mike/Documents/bayes_regression/metropolis.py:23: RuntimeWarning: divide by zero encountered in double_scalars\n",
      "  p = min(target(proposed)/target(current), compare_value)\n",
      "100% (100000 of 100000) |################| Elapsed Time: 0:04:17 Time:  0:04:17\n"
     ]
    }
   ],
   "source": [
    "save_name = '1_linear_regression_from_scratch_trace.csv'\n",
    "overwrie = True\n",
    "\n",
    "if (not os.path.exists(save_name)) or (overwrie):\n",
    "    \n",
    "    # Run the MCMC\n",
    "    trace = metropolis.metropolis(start, target, proposal, n_iter, nburn=n_burn)\n",
    "    \n",
    "    # Save the trace\n",
    "    df = pd.DataFrame(trace)\n",
    "    df.to_csv(save_name, index=False)\n",
    "else:\n",
    "    trace = pd.read_csv(save_name)"
   ]
  },
  {
   "cell_type": "markdown",
   "metadata": {},
   "source": [
    "Now visualize the posterior distributions with the true values shown with black vertical line."
   ]
  },
  {
   "cell_type": "code",
   "execution_count": 86,
   "metadata": {},
   "outputs": [
    {
     "data": {
      "image/png": "[encoded data removed]",
      "text/plain": [
       "<Figure size 720x216 with 2 Axes>"
      ]
     },
     "metadata": {
      "needs_background": "light"
     },
     "output_type": "display_data"
    }
   ],
   "source": [
    "_, ax = plt.subplots(1, 2, figsize=(10,3))\n",
    "ax[0].hist(trace[:, 0], density=True); ax[0].axvline(a[0], c='k'); ax[0].set_title('y-intercept');\n",
    "ax[1].hist(trace[:, 1], density=True); ax[1].axvline(a[1], c='k'); ax[1].set_title('slope')\n",
    "ax[0].set_ylabel('posterior PDF');"
   ]
  },
  {
   "cell_type": "markdown",
   "metadata": {},
   "source": [
    "Now calculate the statistics on the trace plots i.e. 2.5, 50 (median), and 97.5 percentiles. Put into a DataFrame to make a pritty table."
   ]
  },
  {
   "cell_type": "code",
   "execution_count": 87,
   "metadata": {},
   "outputs": [],
   "source": [
    "percentiles = np.nan*np.zeros((len(a), 4))\n",
    "\n",
    "for i, trace_i in enumerate(trace.T):\n",
    "    percentiles[i, :-1] = np.percentile(trace_i, [2.5, 50, 97.5])\n",
    "    percentiles[i, -1] = a[i]\n",
    "df = pd.DataFrame(data=percentiles, columns=['2.5%', '50%', '97.5%', 'true'], \n",
    "                  index=[f'a{i}' for i in range(len(a))])"
   ]
  },
  {
   "cell_type": "code",
   "execution_count": 88,
   "metadata": {},
   "outputs": [
    {
     "data": {
      "text/html": [
       "<div>\n",
       "<style scoped>\n",
       "    .dataframe tbody tr th:only-of-type {\n",
       "        vertical-align: middle;\n",
       "    }\n",
       "\n",
       "    .dataframe tbody tr th {\n",
       "        vertical-align: top;\n",
       "    }\n",
       "\n",
       "    .dataframe thead th {\n",
       "        text-align: right;\n",
       "    }\n",
       "</style>\n",
       "<table border=\"1\" class=\"dataframe\">\n",
       "  <thead>\n",
       "    <tr style=\"text-align: right;\">\n",
       "      <th></th>\n",
       "      <th>2.5%</th>\n",
       "      <th>50%</th>\n",
       "      <th>97.5%</th>\n",
       "      <th>true</th>\n",
       "    </tr>\n",
       "  </thead>\n",
       "  <tbody>\n",
       "    <tr>\n",
       "      <th>a0</th>\n",
       "      <td>-16.589588</td>\n",
       "      <td>-1.694968</td>\n",
       "      <td>13.524826</td>\n",
       "      <td>5.0</td>\n",
       "    </tr>\n",
       "    <tr>\n",
       "      <th>a1</th>\n",
       "      <td>2.855440</td>\n",
       "      <td>3.396811</td>\n",
       "      <td>3.883428</td>\n",
       "      <td>3.0</td>\n",
       "    </tr>\n",
       "  </tbody>\n",
       "</table>\n",
       "</div>"
      ],
      "text/plain": [
       "         2.5%       50%      97.5%  true\n",
       "a0 -16.589588 -1.694968  13.524826   5.0\n",
       "a1   2.855440  3.396811   3.883428   3.0"
      ]
     },
     "execution_count": 88,
     "metadata": {},
     "output_type": "execute_result"
    }
   ],
   "source": [
    "df"
   ]
  },
  {
   "cell_type": "markdown",
   "metadata": {},
   "source": [
    "Now lets make an instructional animation."
   ]
  },
  {
   "cell_type": "code",
   "execution_count": 89,
   "metadata": {},
   "outputs": [
    {
     "data": {
      "image/png": "[encoded data removed]",
      "text/plain": [
       "<Figure size 432x288 with 3 Axes>"
      ]
     },
     "metadata": {
      "needs_background": "light"
     },
     "output_type": "display_data"
    }
   ],
   "source": [
    "### GENERATE SUBPLOTS ###\n",
    "fig = plt.figure()\n",
    "gs = matplotlib.gridspec.GridSpec(2, 2)\n",
    "ax = plt.subplot(gs[:, 0], xlim=(0, 50), ylim=(-50, 160))\n",
    "bx = plt.subplot(gs[0, 1], xlim=(-25, 25))\n",
    "cx = plt.subplot(gs[1, 1], xlim=(2, 5))\n",
    "\n",
    "### PLOT FORMATTING.\n",
    "ax.set_xlabel('x'); ax.set_ylabel('y')\n",
    "plt.suptitle('MCMC | ' + r'$y = a_0 + a_1 x + \\epsilon$')\n",
    "\n",
    "ax.plot(x, line(a, x), c='r', zorder=3)\n",
    "ax.scatter(x, y_obs, c='b', zorder=4)\n",
    "animate_line, = ax.plot([], [], lw=3)\n",
    "\n",
    "### ANIMATION PARAMETERS ###\n",
    "#skip_frames = 100 # How many trace values to skip for each frame.\n",
    "start_frame = 0 # What frame to start at\n",
    "plot_memory = 10  # How many last \n",
    "frames = 100\n",
    "skip_frames = trace.shape[0]//frames\n",
    "intercept_bins = np.linspace(-25, 25)\n",
    "slope_bins = np.linspace(0, 7)\n",
    "\n",
    "def init():\n",
    "    animate_line.set_data([], [])\n",
    "    return animate_line,\n",
    "\n",
    "def animate(i):\n",
    "    # delete all but plot_memory number of lines.\n",
    "    if len(ax.lines) > plot_memory + 1:\n",
    "        ax.lines.pop(2) # Remove the 1st element since the 0th is the true line.\n",
    "        # Now there the number of lines should be of plot_memory.\n",
    "    # Plot another line\n",
    "    ax.plot(x, line(trace[i*skip_frames, :], x), c='k', alpha=0.2)\n",
    "    bx.clear(); cx.clear()\n",
    "    bx.axvline(a[0], c='r')\n",
    "    cx.axvline(a[1], c='r')\n",
    "    bx.hist(trace[:i*skip_frames, 0], color='k', bins=intercept_bins)\n",
    "    cx.hist(trace[:i*skip_frames, 1], color='k', bins=slope_bins)\n",
    "    \n",
    "    ### BX AND CX SUBPLOT FORMATTING ###\n",
    "    bx.get_yaxis().set_ticks([]) #set_visible(False)\n",
    "    cx.get_yaxis().set_ticks([]) #set_visible(False)\n",
    "    bx.set_ylabel('posterior')\n",
    "    bx.text(0.02, 0.98, r'$a_0$', va='top', transform=bx.transAxes, fontsize=15)\n",
    "    cx.set_ylabel('posterior')\n",
    "    cx.text(0.02, 0.98, r'$a_1$', va='top', transform=cx.transAxes, fontsize=15)\n",
    "    return animate_line,\n",
    "\n",
    "anim = FuncAnimation(fig, animate, init_func=init,\n",
    "                    frames=frames, \n",
    "                    interval=100, blit=True)\n",
    "anim.save('linear_regression_from_scratch.gif', writer='imagemagick')"
   ]
  }
 ],
 "metadata": {
  "kernelspec": {
   "display_name": "Python 3",
   "language": "python",
   "name": "python3"
  },
  "language_info": {
   "codemirror_mode": {
    "name": "ipython",
    "version": 3
   },
   "file_extension": ".py",
   "mimetype": "text/x-python",
   "name": "python",
   "nbconvert_exporter": "python",
   "pygments_lexer": "ipython3",
   "version": "3.6.8"
  },
  "toc": {
   "base_numbering": 1,
   "nav_menu": {},
   "number_sections": true,
   "sideBar": true,
   "skip_h1_title": false,
   "title_cell": "Table of Contents",
   "title_sidebar": "Contents",
   "toc_cell": false,
   "toc_position": {},
   "toc_section_display": true,
   "toc_window_display": false
  }
 },
 "nbformat": 4,
 "nbformat_minor": 2
}
